{
 "cells": [
  {
   "cell_type": "code",
   "execution_count": 1,
   "id": "10b9b3c0",
   "metadata": {},
   "outputs": [],
   "source": [
    "from src.utils import get_constants, update_constants, delete_constants, create_constants"
   ]
  },
  {
   "cell_type": "code",
   "execution_count": 3,
   "id": "552dd6f8",
   "metadata": {},
   "outputs": [
    {
     "ename": "FileNotFoundError",
     "evalue": "[Errno 2] No such file or directory: './constants.json'",
     "output_type": "error",
     "traceback": [
      "\u001b[1;31m---------------------------------------------------------------------------\u001b[0m",
      "\u001b[1;31mFileNotFoundError\u001b[0m                         Traceback (most recent call last)",
      "Input \u001b[1;32mIn [3]\u001b[0m, in \u001b[0;36m<cell line: 1>\u001b[1;34m()\u001b[0m\n\u001b[1;32m----> 1\u001b[0m \u001b[43mget_constants\u001b[49m\u001b[43m(\u001b[49m\u001b[38;5;124;43m'\u001b[39;49m\u001b[38;5;124;43mproject_start_date\u001b[39;49m\u001b[38;5;124;43m'\u001b[39;49m\u001b[43m)\u001b[49m\n",
      "File \u001b[1;32mD:\\MSBA\\Applied Machine Learning in Business Analytics\\Phteven\\src\\utils\\manage_constants.py:20\u001b[0m, in \u001b[0;36mget_constants\u001b[1;34m(names)\u001b[0m\n\u001b[0;32m      6\u001b[0m \u001b[38;5;124;03m\"\"\"\u001b[39;00m\n\u001b[0;32m      7\u001b[0m \u001b[38;5;124;03mFunction to obtain values of constants relevant to program execution\u001b[39;00m\n\u001b[0;32m      8\u001b[0m \n\u001b[1;32m   (...)\u001b[0m\n\u001b[0;32m     16\u001b[0m \u001b[38;5;124;03m}\u001b[39;00m\n\u001b[0;32m     17\u001b[0m \u001b[38;5;124;03m\"\"\"\u001b[39;00m\n\u001b[0;32m     18\u001b[0m constants \u001b[38;5;241m=\u001b[39m {}\n\u001b[1;32m---> 20\u001b[0m \u001b[38;5;28;01mwith\u001b[39;00m \u001b[38;5;28;43mopen\u001b[39;49m\u001b[43m(\u001b[49m\u001b[38;5;124;43m'\u001b[39;49m\u001b[38;5;124;43m./constants.json\u001b[39;49m\u001b[38;5;124;43m'\u001b[39;49m\u001b[43m,\u001b[49m\u001b[43m \u001b[49m\u001b[38;5;124;43m'\u001b[39;49m\u001b[38;5;124;43mr\u001b[39;49m\u001b[38;5;124;43m'\u001b[39;49m\u001b[43m)\u001b[49m \u001b[38;5;28;01mas\u001b[39;00m f:\n\u001b[0;32m     21\u001b[0m     all_constants \u001b[38;5;241m=\u001b[39m json\u001b[38;5;241m.\u001b[39mload(f)\n\u001b[0;32m     23\u001b[0m \u001b[38;5;28;01mif\u001b[39;00m \u001b[38;5;28mtype\u001b[39m(names) \u001b[38;5;241m==\u001b[39m \u001b[38;5;28mstr\u001b[39m:\n",
      "\u001b[1;31mFileNotFoundError\u001b[0m: [Errno 2] No such file or directory: './constants.json'"
     ]
    }
   ],
   "source": [
    "get_constants('project_start_date')"
   ]
  },
  {
   "cell_type": "code",
   "execution_count": 10,
   "id": "f6c96402",
   "metadata": {},
   "outputs": [
    {
     "name": "stdout",
     "output_type": "stream",
     "text": [
      "tensor([[  0.0000,   4.0000,   9.0000],\n",
      "        [  3.5000,   0.0000,   4.5000],\n",
      "        [ 99.9000, 499.7500,   0.0000]])\n"
     ]
    }
   ],
   "source": [
    "import torch\n",
    "\n",
    "matrix = [[0, 4, 9], [3.5, 0, 4.5], [99.9, 499.75, 0]]\n",
    "\n",
    "tensor = torch.tensor(matrix)\n",
    "\n",
    "print(tensor)\n"
   ]
  },
  {
   "cell_type": "code",
   "execution_count": 14,
   "id": "9690cb9a",
   "metadata": {},
   "outputs": [
    {
     "data": {
      "text/plain": [
       "0"
      ]
     },
     "execution_count": 14,
     "metadata": {},
     "output_type": "execute_result"
    }
   ],
   "source": [
    "update_constants({'device': 'cpu'})"
   ]
  },
  {
   "cell_type": "code",
   "execution_count": 4,
   "id": "9a2551c6",
   "metadata": {},
   "outputs": [
    {
     "data": {
      "text/plain": [
       "{'project_start_date': 'Not 17 PAril 2023', 'Temp': 'This is a temp value'}"
      ]
     },
     "execution_count": 4,
     "metadata": {},
     "output_type": "execute_result"
    }
   ],
   "source": [
    "get_constants(['project_start_date', 'Temp'])"
   ]
  },
  {
   "cell_type": "code",
   "execution_count": 15,
   "id": "8822105c",
   "metadata": {},
   "outputs": [
    {
     "ename": "KeyError",
     "evalue": "'Temp'",
     "output_type": "error",
     "traceback": [
      "\u001b[1;31m---------------------------------------------------------------------------\u001b[0m",
      "\u001b[1;31mKeyError\u001b[0m                                  Traceback (most recent call last)",
      "Input \u001b[1;32mIn [15]\u001b[0m, in \u001b[0;36m<cell line: 1>\u001b[1;34m()\u001b[0m\n\u001b[1;32m----> 1\u001b[0m \u001b[43mdelete_constants\u001b[49m\u001b[43m(\u001b[49m\u001b[38;5;124;43m'\u001b[39;49m\u001b[38;5;124;43mTemp\u001b[39;49m\u001b[38;5;124;43m'\u001b[39;49m\u001b[43m)\u001b[49m\n",
      "File \u001b[1;32mD:\\MSBA\\Applied Machine Learning in Business Analytics\\Phteven\\src\\utils\\manage_constants.py:74\u001b[0m, in \u001b[0;36mdelete_constants\u001b[1;34m(names, keep_name)\u001b[0m\n\u001b[0;32m     72\u001b[0m         all_constants[names] \u001b[38;5;241m=\u001b[39m \u001b[38;5;28;01mNone\u001b[39;00m\n\u001b[0;32m     73\u001b[0m     \u001b[38;5;28;01melse\u001b[39;00m:\n\u001b[1;32m---> 74\u001b[0m         \u001b[43mall_constants\u001b[49m\u001b[38;5;241;43m.\u001b[39;49m\u001b[43mpop\u001b[49m\u001b[43m(\u001b[49m\u001b[43mnames\u001b[49m\u001b[43m)\u001b[49m\n\u001b[0;32m     75\u001b[0m \u001b[38;5;28;01melif\u001b[39;00m \u001b[38;5;28mtype\u001b[39m(names) \u001b[38;5;241m==\u001b[39m \u001b[38;5;28mlist\u001b[39m:\n\u001b[0;32m     76\u001b[0m     \u001b[38;5;28;01mif\u001b[39;00m keep_name:\n",
      "\u001b[1;31mKeyError\u001b[0m: 'Temp'"
     ]
    }
   ],
   "source": [
    "delete_constants('Temp')"
   ]
  },
  {
   "cell_type": "code",
   "execution_count": 24,
   "id": "58fc3ee4",
   "metadata": {},
   "outputs": [
    {
     "data": {
      "text/plain": [
       "tensor([[  0.0000,   4.0000,   9.0000],\n",
       "        [  3.5000,   0.0000,   4.5000],\n",
       "        [ 99.9000, 499.7500,   0.0000]])"
      ]
     },
     "execution_count": 24,
     "metadata": {},
     "output_type": "execute_result"
    }
   ],
   "source": [
    "true_labels = torch.tensor([[1.0, 0 , 0], [0, 1.0, 0], [0, 0, 1.0]])\n",
    "pred_labels = torch.tensor([[1.0, 0 , 0], [0, 0, 1.0], [1.0, 0, 0.0]])\n",
    "tensor"
   ]
  },
  {
   "cell_type": "code",
   "execution_count": 25,
   "id": "3e7f9b27",
   "metadata": {},
   "outputs": [
    {
     "data": {
      "text/plain": [
       "tensor([[  9.0000,   8.0000,  99.9000],\n",
       "        [  0.0000,   0.0000,   0.0000],\n",
       "        [  4.0000,   0.0000, 499.7500]])"
      ]
     },
     "execution_count": 25,
     "metadata": {},
     "output_type": "execute_result"
    }
   ],
   "source": [
    "torch.matmul(true_labels, torch.matmul(tensor, pred_labels).T)"
   ]
  },
  {
   "cell_type": "code",
   "execution_count": 28,
   "id": "b3c711ce",
   "metadata": {},
   "outputs": [
    {
     "name": "stdout",
     "output_type": "stream",
     "text": [
      "tensor([[1., 0., 0.]]) tensor([[1., 0., 0.]])\n",
      "tensor([[0., 1., 0.]]) tensor([[0., 0., 1.]])\n",
      "tensor([[0., 0., 1.]]) tensor([[1., 0., 0.]])\n"
     ]
    }
   ],
   "source": [
    "import torch\n",
    "\n",
    "# Create an empty list to store the results\n",
    "results = []\n",
    "\n",
    "# Loop through each row of true and pred\n",
    "for i in range(len(true_labels)):\n",
    "    # Extract the ith row of true and pred\n",
    "    true_i = true_labels[i].unsqueeze(0)  # Add a dimension of size 1 to make it a row vector\n",
    "    pred_i = pred_labels[i].unsqueeze(0)  # Add a dimension of size 1 to make it a row vector\n",
    "    print(true_i, pred_i)\n",
    "    # Compute the product in the specified order\n",
    "    product = true_i.mm(tensor).mm(pred_i.t())  # .t() is used to transpose pred_i\n",
    "    \n",
    "    # Add the result to the list of results\n",
    "    results.append(product)\n",
    "\n",
    "# Concatenate the results along the first dimension to get the final output\n",
    "output = torch.cat(results, dim=0)\n"
   ]
  },
  {
   "cell_type": "code",
   "execution_count": 29,
   "id": "11c13e33",
   "metadata": {},
   "outputs": [
    {
     "data": {
      "text/plain": [
       "tensor([[ 0.0000],\n",
       "        [ 4.5000],\n",
       "        [99.9000]])"
      ]
     },
     "execution_count": 29,
     "metadata": {},
     "output_type": "execute_result"
    }
   ],
   "source": [
    "output"
   ]
  },
  {
   "cell_type": "code",
   "execution_count": 31,
   "id": "faf0b5c5",
   "metadata": {},
   "outputs": [
    {
     "data": {
      "text/plain": [
       "104.4000015258789"
      ]
     },
     "execution_count": 31,
     "metadata": {},
     "output_type": "execute_result"
    }
   ],
   "source": [
    "sum(output).item()"
   ]
  },
  {
   "cell_type": "code",
   "execution_count": 32,
   "id": "4d0f9de5",
   "metadata": {},
   "outputs": [
    {
     "data": {
      "text/plain": [
       "[tensor([[0.]]), tensor([[4.5000]]), tensor([[99.9000]])]"
      ]
     },
     "execution_count": 32,
     "metadata": {},
     "output_type": "execute_result"
    }
   ],
   "source": [
    "results"
   ]
  },
  {
   "cell_type": "code",
   "execution_count": 33,
   "id": "86014dd3",
   "metadata": {},
   "outputs": [
    {
     "ename": "AttributeError",
     "evalue": "'list' object has no attribute 'sum'",
     "output_type": "error",
     "traceback": [
      "\u001b[1;31m---------------------------------------------------------------------------\u001b[0m",
      "\u001b[1;31mAttributeError\u001b[0m                            Traceback (most recent call last)",
      "Input \u001b[1;32mIn [33]\u001b[0m, in \u001b[0;36m<cell line: 1>\u001b[1;34m()\u001b[0m\n\u001b[1;32m----> 1\u001b[0m \u001b[43mresults\u001b[49m\u001b[38;5;241;43m.\u001b[39;49m\u001b[43msum\u001b[49m()\n",
      "\u001b[1;31mAttributeError\u001b[0m: 'list' object has no attribute 'sum'"
     ]
    }
   ],
   "source": [
    "results.sum()"
   ]
  },
  {
   "cell_type": "code",
   "execution_count": 2,
   "id": "e8aa1dcc",
   "metadata": {},
   "outputs": [],
   "source": [
    "train_transform = {\n",
    "\"TRAIN_TRANSFORM_RESIZE\": 224,\n",
    "\"TRAIN_HORI_FLIP\": True,\n",
    "\"COLORJITTER_BRIGHTNESS\": 0.4,\n",
    "\"COLORJITTER_CONTRAST\": 0.4,\n",
    "\"COLORJITTER_SATURATION\": 0.4,\n",
    "\"COLORJITTER_HUE\": 0.1,\n",
    "\"RANDOMROTATION_DEGREES\": 20,\n",
    "\"TRAIN_TRANSFORM_MEAN\": [0.485, 0.456, 0.406],\n",
    "\"TRAIN_TRANSFORM_STD\": [0.229, 0.224, 0.225]\n",
    "}\n",
    "\n",
    "val_transform = {\n",
    "    \"VAL_TRANSFORM_RESIZE\": 256,\n",
    "    \"VAL_TRANSFORM_CROP\": 224,\n",
    "    \"VAL_TRANSFORM_MEAN\": [0.485, 0.456, 0.406],\n",
    "    \"VAL_TRANSFORM_STD\": [0.229, 0.224, 0.225]\n",
    "}"
   ]
  },
  {
   "cell_type": "code",
   "execution_count": 3,
   "id": "980ab64a",
   "metadata": {},
   "outputs": [
    {
     "data": {
      "text/plain": [
       "0"
      ]
     },
     "execution_count": 3,
     "metadata": {},
     "output_type": "execute_result"
    }
   ],
   "source": [
    "create_constants(train_transform)\n",
    "create_constants(val_transform)"
   ]
  },
  {
   "cell_type": "code",
   "execution_count": null,
   "id": "2877d684",
   "metadata": {},
   "outputs": [],
   "source": []
  }
 ],
 "metadata": {
  "kernelspec": {
   "display_name": "Python 3 (ipykernel)",
   "language": "python",
   "name": "python3"
  },
  "language_info": {
   "codemirror_mode": {
    "name": "ipython",
    "version": 3
   },
   "file_extension": ".py",
   "mimetype": "text/x-python",
   "name": "python",
   "nbconvert_exporter": "python",
   "pygments_lexer": "ipython3",
   "version": "3.10.6"
  }
 },
 "nbformat": 4,
 "nbformat_minor": 5
}
