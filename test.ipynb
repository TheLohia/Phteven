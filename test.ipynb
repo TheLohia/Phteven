{
 "cells": [
  {
   "cell_type": "code",
   "execution_count": 1,
   "id": "e33256ba",
   "metadata": {},
   "outputs": [],
   "source": [
    "from src.utils import get_constants, update_constants, delete_constants"
   ]
  },
  {
   "cell_type": "code",
   "execution_count": 2,
   "id": "0f895b31",
   "metadata": {},
   "outputs": [
    {
     "data": {
      "text/plain": [
       "{'project_start_date': 'Not 17 PAril 2023'}"
      ]
     },
     "execution_count": 2,
     "metadata": {},
     "output_type": "execute_result"
    }
   ],
   "source": [
    "get_constants('project_start_date')"
   ]
  },
  {
   "cell_type": "code",
   "execution_count": 3,
   "id": "f5ee30e4",
   "metadata": {},
   "outputs": [
    {
     "data": {
      "text/plain": [
       "0"
      ]
     },
     "execution_count": 3,
     "metadata": {},
     "output_type": "execute_result"
    }
   ],
   "source": [
    "update_constants({'Temp': 'This is a temp value', 'project_start_date': 'Not 17 PAril 2023'})"
   ]
  },
  {
   "cell_type": "code",
   "execution_count": 4,
   "id": "69d61d8f",
   "metadata": {},
   "outputs": [
    {
     "data": {
      "text/plain": [
       "{'project_start_date': 'Not 17 PAril 2023', 'Temp': 'This is a temp value'}"
      ]
     },
     "execution_count": 4,
     "metadata": {},
     "output_type": "execute_result"
    }
   ],
   "source": [
    "get_constants(['project_start_date', 'Temp'])"
   ]
  },
  {
   "cell_type": "code",
   "execution_count": 8,
   "id": "bfdc47ee",
   "metadata": {},
   "outputs": [
    {
     "data": {
      "text/plain": [
       "0"
      ]
     },
     "execution_count": 8,
     "metadata": {},
     "output_type": "execute_result"
    }
   ],
   "source": [
    "delete_constants('Temp')"
   ]
  }
 ],
 "metadata": {
  "kernelspec": {
   "display_name": "Python 3 (ipykernel)",
   "language": "python",
   "name": "python3"
  },
  "language_info": {
   "codemirror_mode": {
    "name": "ipython",
    "version": 3
   },
   "file_extension": ".py",
   "mimetype": "text/x-python",
   "name": "python",
   "nbconvert_exporter": "python",
   "pygments_lexer": "ipython3",
   "version": "3.8.5"
  }
 },
 "nbformat": 4,
 "nbformat_minor": 5
}
